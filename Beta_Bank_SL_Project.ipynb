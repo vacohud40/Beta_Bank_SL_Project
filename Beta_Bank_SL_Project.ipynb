{
 "cells": [
  {
   "cell_type": "markdown",
   "metadata": {},
   "source": [
    "# Predicting Customer Churn at Beta Bank\n",
    "\n",
    "**Project Description:**\n",
    "\n",
    "Beta Bank is experiencing customer churn, with customers leaving the bank at a concerning rate. It is more cost-effective to retain existing customers than to acquire new ones. We have historical data on customer behavior and contract terminations.\n",
    "\n",
    "**Analysis Goal:**\n",
    "\n",
    "The goal of this project is to build a predictive model that can accurately identify customers who are likely to churn (leave the bank) in the near future. This model will enable Beta Bank to proactively take steps to retain these customers. We aim to achieve an F1 score of at least 0.59 on the test set. Additionally, we will evaluate the model's performance using the AUC-ROC metric and compare it with the F1 score."
   ]
  },
  {
   "cell_type": "code",
   "execution_count": 1,
   "metadata": {
    "trusted": false
   },
   "outputs": [],
   "source": [
    "# Importing the necessary libraries\n",
    "import pandas as pd\n",
    "from sklearn.model_selection import train_test_split, GridSearchCV\n",
    "from sklearn.preprocessing import StandardScaler, OneHotEncoder\n",
    "from sklearn.linear_model import LogisticRegression\n",
    "from sklearn.ensemble import RandomForestClassifier\n",
    "from sklearn.metrics import f1_score, roc_auc_score, roc_curve, accuracy_score, roc_curve\n",
    "from sklearn.metrics import roc_curve, auc\n",
    "from sklearn.utils import shuffle\n",
    "from sklearn.dummy import DummyClassifier\n",
    "import matplotlib.pyplot as plt\n",
    "import seaborn as sns\n",
    "import numpy as np"
   ]
  },
  {
   "cell_type": "code",
   "execution_count": 2,
   "metadata": {
    "trusted": false
   },
   "outputs": [],
   "source": [
    "# Loading the data\n",
    "data = pd.read_csv('/datasets/Churn.csv')"
   ]
  },
  {
   "cell_type": "code",
   "execution_count": 3,
   "metadata": {
    "trusted": false
   },
   "outputs": [
    {
     "name": "stdout",
     "output_type": "stream",
     "text": [
      "Data shape: (10000, 14)\n",
      "\n",
      "Data info:\n",
      "<class 'pandas.core.frame.DataFrame'>\n",
      "RangeIndex: 10000 entries, 0 to 9999\n",
      "Data columns (total 14 columns):\n",
      " #   Column           Non-Null Count  Dtype  \n",
      "---  ------           --------------  -----  \n",
      " 0   RowNumber        10000 non-null  int64  \n",
      " 1   CustomerId       10000 non-null  int64  \n",
      " 2   Surname          10000 non-null  object \n",
      " 3   CreditScore      10000 non-null  int64  \n",
      " 4   Geography        10000 non-null  object \n",
      " 5   Gender           10000 non-null  object \n",
      " 6   Age              10000 non-null  int64  \n",
      " 7   Tenure           9091 non-null   float64\n",
      " 8   Balance          10000 non-null  float64\n",
      " 9   NumOfProducts    10000 non-null  int64  \n",
      " 10  HasCrCard        10000 non-null  int64  \n",
      " 11  IsActiveMember   10000 non-null  int64  \n",
      " 12  EstimatedSalary  10000 non-null  float64\n",
      " 13  Exited           10000 non-null  int64  \n",
      "dtypes: float64(3), int64(8), object(3)\n",
      "memory usage: 1.1+ MB\n",
      "None\n",
      "\n",
      "First 5 rows:\n"
     ]
    },
    {
     "data": {
      "text/html": [
       "<div>\n",
       "<style scoped>\n",
       "    .dataframe tbody tr th:only-of-type {\n",
       "        vertical-align: middle;\n",
       "    }\n",
       "\n",
       "    .dataframe tbody tr th {\n",
       "        vertical-align: top;\n",
       "    }\n",
       "\n",
       "    .dataframe thead th {\n",
       "        text-align: right;\n",
       "    }\n",
       "</style>\n",
       "<table border=\"1\" class=\"dataframe\">\n",
       "  <thead>\n",
       "    <tr style=\"text-align: right;\">\n",
       "      <th></th>\n",
       "      <th>RowNumber</th>\n",
       "      <th>CustomerId</th>\n",
       "      <th>Surname</th>\n",
       "      <th>CreditScore</th>\n",
       "      <th>Geography</th>\n",
       "      <th>Gender</th>\n",
       "      <th>Age</th>\n",
       "      <th>Tenure</th>\n",
       "      <th>Balance</th>\n",
       "      <th>NumOfProducts</th>\n",
       "      <th>HasCrCard</th>\n",
       "      <th>IsActiveMember</th>\n",
       "      <th>EstimatedSalary</th>\n",
       "      <th>Exited</th>\n",
       "    </tr>\n",
       "  </thead>\n",
       "  <tbody>\n",
       "    <tr>\n",
       "      <th>0</th>\n",
       "      <td>1</td>\n",
       "      <td>15634602</td>\n",
       "      <td>Hargrave</td>\n",
       "      <td>619</td>\n",
       "      <td>France</td>\n",
       "      <td>Female</td>\n",
       "      <td>42</td>\n",
       "      <td>2.0</td>\n",
       "      <td>0.00</td>\n",
       "      <td>1</td>\n",
       "      <td>1</td>\n",
       "      <td>1</td>\n",
       "      <td>101348.88</td>\n",
       "      <td>1</td>\n",
       "    </tr>\n",
       "    <tr>\n",
       "      <th>1</th>\n",
       "      <td>2</td>\n",
       "      <td>15647311</td>\n",
       "      <td>Hill</td>\n",
       "      <td>608</td>\n",
       "      <td>Spain</td>\n",
       "      <td>Female</td>\n",
       "      <td>41</td>\n",
       "      <td>1.0</td>\n",
       "      <td>83807.86</td>\n",
       "      <td>1</td>\n",
       "      <td>0</td>\n",
       "      <td>1</td>\n",
       "      <td>112542.58</td>\n",
       "      <td>0</td>\n",
       "    </tr>\n",
       "    <tr>\n",
       "      <th>2</th>\n",
       "      <td>3</td>\n",
       "      <td>15619304</td>\n",
       "      <td>Onio</td>\n",
       "      <td>502</td>\n",
       "      <td>France</td>\n",
       "      <td>Female</td>\n",
       "      <td>42</td>\n",
       "      <td>8.0</td>\n",
       "      <td>159660.80</td>\n",
       "      <td>3</td>\n",
       "      <td>1</td>\n",
       "      <td>0</td>\n",
       "      <td>113931.57</td>\n",
       "      <td>1</td>\n",
       "    </tr>\n",
       "    <tr>\n",
       "      <th>3</th>\n",
       "      <td>4</td>\n",
       "      <td>15701354</td>\n",
       "      <td>Boni</td>\n",
       "      <td>699</td>\n",
       "      <td>France</td>\n",
       "      <td>Female</td>\n",
       "      <td>39</td>\n",
       "      <td>1.0</td>\n",
       "      <td>0.00</td>\n",
       "      <td>2</td>\n",
       "      <td>0</td>\n",
       "      <td>0</td>\n",
       "      <td>93826.63</td>\n",
       "      <td>0</td>\n",
       "    </tr>\n",
       "    <tr>\n",
       "      <th>4</th>\n",
       "      <td>5</td>\n",
       "      <td>15737888</td>\n",
       "      <td>Mitchell</td>\n",
       "      <td>850</td>\n",
       "      <td>Spain</td>\n",
       "      <td>Female</td>\n",
       "      <td>43</td>\n",
       "      <td>2.0</td>\n",
       "      <td>125510.82</td>\n",
       "      <td>1</td>\n",
       "      <td>1</td>\n",
       "      <td>1</td>\n",
       "      <td>79084.10</td>\n",
       "      <td>0</td>\n",
       "    </tr>\n",
       "  </tbody>\n",
       "</table>\n",
       "</div>"
      ],
      "text/plain": [
       "   RowNumber  CustomerId   Surname  CreditScore Geography  Gender  Age  \\\n",
       "0          1    15634602  Hargrave          619    France  Female   42   \n",
       "1          2    15647311      Hill          608     Spain  Female   41   \n",
       "2          3    15619304      Onio          502    France  Female   42   \n",
       "3          4    15701354      Boni          699    France  Female   39   \n",
       "4          5    15737888  Mitchell          850     Spain  Female   43   \n",
       "\n",
       "   Tenure    Balance  NumOfProducts  HasCrCard  IsActiveMember  \\\n",
       "0     2.0       0.00              1          1               1   \n",
       "1     1.0   83807.86              1          0               1   \n",
       "2     8.0  159660.80              3          1               0   \n",
       "3     1.0       0.00              2          0               0   \n",
       "4     2.0  125510.82              1          1               1   \n",
       "\n",
       "   EstimatedSalary  Exited  \n",
       "0        101348.88       1  \n",
       "1        112542.58       0  \n",
       "2        113931.57       1  \n",
       "3         93826.63       0  \n",
       "4         79084.10       0  "
      ]
     },
     "metadata": {},
     "output_type": "display_data"
    },
    {
     "name": "stdout",
     "output_type": "stream",
     "text": [
      "\n",
      "Descriptive statistics:\n"
     ]
    },
    {
     "data": {
      "text/html": [
       "<div>\n",
       "<style scoped>\n",
       "    .dataframe tbody tr th:only-of-type {\n",
       "        vertical-align: middle;\n",
       "    }\n",
       "\n",
       "    .dataframe tbody tr th {\n",
       "        vertical-align: top;\n",
       "    }\n",
       "\n",
       "    .dataframe thead th {\n",
       "        text-align: right;\n",
       "    }\n",
       "</style>\n",
       "<table border=\"1\" class=\"dataframe\">\n",
       "  <thead>\n",
       "    <tr style=\"text-align: right;\">\n",
       "      <th></th>\n",
       "      <th>RowNumber</th>\n",
       "      <th>CustomerId</th>\n",
       "      <th>CreditScore</th>\n",
       "      <th>Age</th>\n",
       "      <th>Tenure</th>\n",
       "      <th>Balance</th>\n",
       "      <th>NumOfProducts</th>\n",
       "      <th>HasCrCard</th>\n",
       "      <th>IsActiveMember</th>\n",
       "      <th>EstimatedSalary</th>\n",
       "      <th>Exited</th>\n",
       "    </tr>\n",
       "  </thead>\n",
       "  <tbody>\n",
       "    <tr>\n",
       "      <th>count</th>\n",
       "      <td>10000.00000</td>\n",
       "      <td>1.000000e+04</td>\n",
       "      <td>10000.000000</td>\n",
       "      <td>10000.000000</td>\n",
       "      <td>9091.000000</td>\n",
       "      <td>10000.000000</td>\n",
       "      <td>10000.000000</td>\n",
       "      <td>10000.00000</td>\n",
       "      <td>10000.000000</td>\n",
       "      <td>10000.000000</td>\n",
       "      <td>10000.000000</td>\n",
       "    </tr>\n",
       "    <tr>\n",
       "      <th>mean</th>\n",
       "      <td>5000.50000</td>\n",
       "      <td>1.569094e+07</td>\n",
       "      <td>650.528800</td>\n",
       "      <td>38.921800</td>\n",
       "      <td>4.997690</td>\n",
       "      <td>76485.889288</td>\n",
       "      <td>1.530200</td>\n",
       "      <td>0.70550</td>\n",
       "      <td>0.515100</td>\n",
       "      <td>100090.239881</td>\n",
       "      <td>0.203700</td>\n",
       "    </tr>\n",
       "    <tr>\n",
       "      <th>std</th>\n",
       "      <td>2886.89568</td>\n",
       "      <td>7.193619e+04</td>\n",
       "      <td>96.653299</td>\n",
       "      <td>10.487806</td>\n",
       "      <td>2.894723</td>\n",
       "      <td>62397.405202</td>\n",
       "      <td>0.581654</td>\n",
       "      <td>0.45584</td>\n",
       "      <td>0.499797</td>\n",
       "      <td>57510.492818</td>\n",
       "      <td>0.402769</td>\n",
       "    </tr>\n",
       "    <tr>\n",
       "      <th>min</th>\n",
       "      <td>1.00000</td>\n",
       "      <td>1.556570e+07</td>\n",
       "      <td>350.000000</td>\n",
       "      <td>18.000000</td>\n",
       "      <td>0.000000</td>\n",
       "      <td>0.000000</td>\n",
       "      <td>1.000000</td>\n",
       "      <td>0.00000</td>\n",
       "      <td>0.000000</td>\n",
       "      <td>11.580000</td>\n",
       "      <td>0.000000</td>\n",
       "    </tr>\n",
       "    <tr>\n",
       "      <th>25%</th>\n",
       "      <td>2500.75000</td>\n",
       "      <td>1.562853e+07</td>\n",
       "      <td>584.000000</td>\n",
       "      <td>32.000000</td>\n",
       "      <td>2.000000</td>\n",
       "      <td>0.000000</td>\n",
       "      <td>1.000000</td>\n",
       "      <td>0.00000</td>\n",
       "      <td>0.000000</td>\n",
       "      <td>51002.110000</td>\n",
       "      <td>0.000000</td>\n",
       "    </tr>\n",
       "    <tr>\n",
       "      <th>50%</th>\n",
       "      <td>5000.50000</td>\n",
       "      <td>1.569074e+07</td>\n",
       "      <td>652.000000</td>\n",
       "      <td>37.000000</td>\n",
       "      <td>5.000000</td>\n",
       "      <td>97198.540000</td>\n",
       "      <td>1.000000</td>\n",
       "      <td>1.00000</td>\n",
       "      <td>1.000000</td>\n",
       "      <td>100193.915000</td>\n",
       "      <td>0.000000</td>\n",
       "    </tr>\n",
       "    <tr>\n",
       "      <th>75%</th>\n",
       "      <td>7500.25000</td>\n",
       "      <td>1.575323e+07</td>\n",
       "      <td>718.000000</td>\n",
       "      <td>44.000000</td>\n",
       "      <td>7.000000</td>\n",
       "      <td>127644.240000</td>\n",
       "      <td>2.000000</td>\n",
       "      <td>1.00000</td>\n",
       "      <td>1.000000</td>\n",
       "      <td>149388.247500</td>\n",
       "      <td>0.000000</td>\n",
       "    </tr>\n",
       "    <tr>\n",
       "      <th>max</th>\n",
       "      <td>10000.00000</td>\n",
       "      <td>1.581569e+07</td>\n",
       "      <td>850.000000</td>\n",
       "      <td>92.000000</td>\n",
       "      <td>10.000000</td>\n",
       "      <td>250898.090000</td>\n",
       "      <td>4.000000</td>\n",
       "      <td>1.00000</td>\n",
       "      <td>1.000000</td>\n",
       "      <td>199992.480000</td>\n",
       "      <td>1.000000</td>\n",
       "    </tr>\n",
       "  </tbody>\n",
       "</table>\n",
       "</div>"
      ],
      "text/plain": [
       "         RowNumber    CustomerId   CreditScore           Age       Tenure  \\\n",
       "count  10000.00000  1.000000e+04  10000.000000  10000.000000  9091.000000   \n",
       "mean    5000.50000  1.569094e+07    650.528800     38.921800     4.997690   \n",
       "std     2886.89568  7.193619e+04     96.653299     10.487806     2.894723   \n",
       "min        1.00000  1.556570e+07    350.000000     18.000000     0.000000   \n",
       "25%     2500.75000  1.562853e+07    584.000000     32.000000     2.000000   \n",
       "50%     5000.50000  1.569074e+07    652.000000     37.000000     5.000000   \n",
       "75%     7500.25000  1.575323e+07    718.000000     44.000000     7.000000   \n",
       "max    10000.00000  1.581569e+07    850.000000     92.000000    10.000000   \n",
       "\n",
       "             Balance  NumOfProducts    HasCrCard  IsActiveMember  \\\n",
       "count   10000.000000   10000.000000  10000.00000    10000.000000   \n",
       "mean    76485.889288       1.530200      0.70550        0.515100   \n",
       "std     62397.405202       0.581654      0.45584        0.499797   \n",
       "min         0.000000       1.000000      0.00000        0.000000   \n",
       "25%         0.000000       1.000000      0.00000        0.000000   \n",
       "50%     97198.540000       1.000000      1.00000        1.000000   \n",
       "75%    127644.240000       2.000000      1.00000        1.000000   \n",
       "max    250898.090000       4.000000      1.00000        1.000000   \n",
       "\n",
       "       EstimatedSalary        Exited  \n",
       "count     10000.000000  10000.000000  \n",
       "mean     100090.239881      0.203700  \n",
       "std       57510.492818      0.402769  \n",
       "min          11.580000      0.000000  \n",
       "25%       51002.110000      0.000000  \n",
       "50%      100193.915000      0.000000  \n",
       "75%      149388.247500      0.000000  \n",
       "max      199992.480000      1.000000  "
      ]
     },
     "metadata": {},
     "output_type": "display_data"
    },
    {
     "name": "stdout",
     "output_type": "stream",
     "text": [
      "\n",
      "Unique values in categorical columns:\n",
      "\n",
      "Surname: ['Hargrave' 'Hill' 'Onio' ... 'Kashiwagi' 'Aldridge' 'Burbidge']\n",
      "\n",
      "Geography: ['France' 'Spain' 'Germany']\n",
      "\n",
      "Gender: ['Female' 'Male']\n",
      "\n",
      "Target variable distribution:\n"
     ]
    },
    {
     "data": {
      "text/plain": [
       "0    0.7963\n",
       "1    0.2037\n",
       "Name: Exited, dtype: float64"
      ]
     },
     "metadata": {},
     "output_type": "display_data"
    }
   ],
   "source": [
    "# Initial exploration\n",
    "print(\"Data shape:\", data.shape)\n",
    "print(\"\\nData info:\")\n",
    "print(data.info())\n",
    "print(\"\\nFirst 5 rows:\")\n",
    "display(data.head()) #display here\n",
    "print(\"\\nDescriptive statistics:\")\n",
    "display(data.describe()) #display here\n",
    "print(\"\\nUnique values in categorical columns:\")\n",
    "for col in data.select_dtypes(include='object').columns:\n",
    "    print(f\"\\n{col}: {data[col].unique()}\")\n",
    "\n",
    "print(\"\\nTarget variable distribution:\")\n",
    "display(data['Exited'].value_counts(normalize=True))"
   ]
  },
  {
   "cell_type": "code",
   "execution_count": 4,
   "metadata": {
    "trusted": false
   },
   "outputs": [
    {
     "data": {
      "text/html": [
       "<div>\n",
       "<style scoped>\n",
       "    .dataframe tbody tr th:only-of-type {\n",
       "        vertical-align: middle;\n",
       "    }\n",
       "\n",
       "    .dataframe tbody tr th {\n",
       "        vertical-align: top;\n",
       "    }\n",
       "\n",
       "    .dataframe thead th {\n",
       "        text-align: right;\n",
       "    }\n",
       "</style>\n",
       "<table border=\"1\" class=\"dataframe\">\n",
       "  <thead>\n",
       "    <tr style=\"text-align: right;\">\n",
       "      <th></th>\n",
       "      <th>RowNumber</th>\n",
       "      <th>CustomerId</th>\n",
       "      <th>Surname</th>\n",
       "      <th>CreditScore</th>\n",
       "      <th>Geography</th>\n",
       "      <th>Gender</th>\n",
       "      <th>Age</th>\n",
       "      <th>Tenure</th>\n",
       "      <th>Balance</th>\n",
       "      <th>NumOfProducts</th>\n",
       "      <th>HasCrCard</th>\n",
       "      <th>IsActiveMember</th>\n",
       "      <th>EstimatedSalary</th>\n",
       "      <th>Exited</th>\n",
       "    </tr>\n",
       "  </thead>\n",
       "  <tbody>\n",
       "    <tr>\n",
       "      <th>0</th>\n",
       "      <td>1</td>\n",
       "      <td>15634602</td>\n",
       "      <td>Hargrave</td>\n",
       "      <td>619</td>\n",
       "      <td>France</td>\n",
       "      <td>Female</td>\n",
       "      <td>42</td>\n",
       "      <td>2.0</td>\n",
       "      <td>0.00</td>\n",
       "      <td>1</td>\n",
       "      <td>1</td>\n",
       "      <td>1</td>\n",
       "      <td>101348.88</td>\n",
       "      <td>1</td>\n",
       "    </tr>\n",
       "    <tr>\n",
       "      <th>1</th>\n",
       "      <td>2</td>\n",
       "      <td>15647311</td>\n",
       "      <td>Hill</td>\n",
       "      <td>608</td>\n",
       "      <td>Spain</td>\n",
       "      <td>Female</td>\n",
       "      <td>41</td>\n",
       "      <td>1.0</td>\n",
       "      <td>83807.86</td>\n",
       "      <td>1</td>\n",
       "      <td>0</td>\n",
       "      <td>1</td>\n",
       "      <td>112542.58</td>\n",
       "      <td>0</td>\n",
       "    </tr>\n",
       "    <tr>\n",
       "      <th>2</th>\n",
       "      <td>3</td>\n",
       "      <td>15619304</td>\n",
       "      <td>Onio</td>\n",
       "      <td>502</td>\n",
       "      <td>France</td>\n",
       "      <td>Female</td>\n",
       "      <td>42</td>\n",
       "      <td>8.0</td>\n",
       "      <td>159660.80</td>\n",
       "      <td>3</td>\n",
       "      <td>1</td>\n",
       "      <td>0</td>\n",
       "      <td>113931.57</td>\n",
       "      <td>1</td>\n",
       "    </tr>\n",
       "  </tbody>\n",
       "</table>\n",
       "</div>"
      ],
      "text/plain": [
       "   RowNumber  CustomerId   Surname  CreditScore Geography  Gender  Age  \\\n",
       "0          1    15634602  Hargrave          619    France  Female   42   \n",
       "1          2    15647311      Hill          608     Spain  Female   41   \n",
       "2          3    15619304      Onio          502    France  Female   42   \n",
       "\n",
       "   Tenure    Balance  NumOfProducts  HasCrCard  IsActiveMember  \\\n",
       "0     2.0       0.00              1          1               1   \n",
       "1     1.0   83807.86              1          0               1   \n",
       "2     8.0  159660.80              3          1               0   \n",
       "\n",
       "   EstimatedSalary  Exited  \n",
       "0        101348.88       1  \n",
       "1        112542.58       0  \n",
       "2        113931.57       1  "
      ]
     },
     "metadata": {},
     "output_type": "display_data"
    },
    {
     "data": {
      "text/html": [
       "<div>\n",
       "<style scoped>\n",
       "    .dataframe tbody tr th:only-of-type {\n",
       "        vertical-align: middle;\n",
       "    }\n",
       "\n",
       "    .dataframe tbody tr th {\n",
       "        vertical-align: top;\n",
       "    }\n",
       "\n",
       "    .dataframe thead th {\n",
       "        text-align: right;\n",
       "    }\n",
       "</style>\n",
       "<table border=\"1\" class=\"dataframe\">\n",
       "  <thead>\n",
       "    <tr style=\"text-align: right;\">\n",
       "      <th></th>\n",
       "      <th>RowNumber</th>\n",
       "      <th>CustomerId</th>\n",
       "      <th>Surname</th>\n",
       "      <th>CreditScore</th>\n",
       "      <th>Geography</th>\n",
       "      <th>Gender</th>\n",
       "      <th>Age</th>\n",
       "      <th>Tenure</th>\n",
       "      <th>Balance</th>\n",
       "      <th>NumOfProducts</th>\n",
       "      <th>HasCrCard</th>\n",
       "      <th>IsActiveMember</th>\n",
       "      <th>EstimatedSalary</th>\n",
       "      <th>Exited</th>\n",
       "    </tr>\n",
       "  </thead>\n",
       "  <tbody>\n",
       "    <tr>\n",
       "      <th>9997</th>\n",
       "      <td>9998</td>\n",
       "      <td>15584532</td>\n",
       "      <td>Liu</td>\n",
       "      <td>709</td>\n",
       "      <td>France</td>\n",
       "      <td>Female</td>\n",
       "      <td>36</td>\n",
       "      <td>7.0</td>\n",
       "      <td>0.00</td>\n",
       "      <td>1</td>\n",
       "      <td>0</td>\n",
       "      <td>1</td>\n",
       "      <td>42085.58</td>\n",
       "      <td>1</td>\n",
       "    </tr>\n",
       "    <tr>\n",
       "      <th>9998</th>\n",
       "      <td>9999</td>\n",
       "      <td>15682355</td>\n",
       "      <td>Sabbatini</td>\n",
       "      <td>772</td>\n",
       "      <td>Germany</td>\n",
       "      <td>Male</td>\n",
       "      <td>42</td>\n",
       "      <td>3.0</td>\n",
       "      <td>75075.31</td>\n",
       "      <td>2</td>\n",
       "      <td>1</td>\n",
       "      <td>0</td>\n",
       "      <td>92888.52</td>\n",
       "      <td>1</td>\n",
       "    </tr>\n",
       "    <tr>\n",
       "      <th>9999</th>\n",
       "      <td>10000</td>\n",
       "      <td>15628319</td>\n",
       "      <td>Walker</td>\n",
       "      <td>792</td>\n",
       "      <td>France</td>\n",
       "      <td>Female</td>\n",
       "      <td>28</td>\n",
       "      <td>NaN</td>\n",
       "      <td>130142.79</td>\n",
       "      <td>1</td>\n",
       "      <td>1</td>\n",
       "      <td>0</td>\n",
       "      <td>38190.78</td>\n",
       "      <td>0</td>\n",
       "    </tr>\n",
       "  </tbody>\n",
       "</table>\n",
       "</div>"
      ],
      "text/plain": [
       "      RowNumber  CustomerId    Surname  CreditScore Geography  Gender  Age  \\\n",
       "9997       9998    15584532        Liu          709    France  Female   36   \n",
       "9998       9999    15682355  Sabbatini          772   Germany    Male   42   \n",
       "9999      10000    15628319     Walker          792    France  Female   28   \n",
       "\n",
       "      Tenure    Balance  NumOfProducts  HasCrCard  IsActiveMember  \\\n",
       "9997     7.0       0.00              1          0               1   \n",
       "9998     3.0   75075.31              2          1               0   \n",
       "9999     NaN  130142.79              1          1               0   \n",
       "\n",
       "      EstimatedSalary  Exited  \n",
       "9997         42085.58       1  \n",
       "9998         92888.52       1  \n",
       "9999         38190.78       0  "
      ]
     },
     "execution_count": 4,
     "metadata": {},
     "output_type": "execute_result"
    }
   ],
   "source": [
    "# Reviewer's code\n",
    "\n",
    "display(data.head(3))\n",
    "\n",
    "data.tail(3)"
   ]
  },
  {
   "cell_type": "code",
   "execution_count": 5,
   "metadata": {
    "trusted": false
   },
   "outputs": [
    {
     "name": "stdout",
     "output_type": "stream",
     "text": [
      "Number of duplicate rows: 0\n",
      "Data shape after removing duplicates: (10000, 14)\n"
     ]
    }
   ],
   "source": [
    "# Checking for duplicates\n",
    "print(\"Number of duplicate rows:\", data.duplicated().sum())\n",
    "\n",
    "# Removing duplicates if any\n",
    "data = data.drop_duplicates()\n",
    "print(\"Data shape after removing duplicates:\", data.shape)"
   ]
  },
  {
   "cell_type": "code",
   "execution_count": 6,
   "metadata": {
    "trusted": false
   },
   "outputs": [
    {
     "name": "stdout",
     "output_type": "stream",
     "text": [
      "\n",
      "Number of missing values in Tenure: 0\n",
      "\n",
      "Head of processed data:\n"
     ]
    },
    {
     "data": {
      "text/html": [
       "<div>\n",
       "<style scoped>\n",
       "    .dataframe tbody tr th:only-of-type {\n",
       "        vertical-align: middle;\n",
       "    }\n",
       "\n",
       "    .dataframe tbody tr th {\n",
       "        vertical-align: top;\n",
       "    }\n",
       "\n",
       "    .dataframe thead th {\n",
       "        text-align: right;\n",
       "    }\n",
       "</style>\n",
       "<table border=\"1\" class=\"dataframe\">\n",
       "  <thead>\n",
       "    <tr style=\"text-align: right;\">\n",
       "      <th></th>\n",
       "      <th>RowNumber</th>\n",
       "      <th>CustomerId</th>\n",
       "      <th>Surname</th>\n",
       "      <th>CreditScore</th>\n",
       "      <th>Geography</th>\n",
       "      <th>Gender</th>\n",
       "      <th>Age</th>\n",
       "      <th>Tenure</th>\n",
       "      <th>Balance</th>\n",
       "      <th>NumOfProducts</th>\n",
       "      <th>HasCrCard</th>\n",
       "      <th>IsActiveMember</th>\n",
       "      <th>EstimatedSalary</th>\n",
       "      <th>Exited</th>\n",
       "    </tr>\n",
       "  </thead>\n",
       "  <tbody>\n",
       "    <tr>\n",
       "      <th>0</th>\n",
       "      <td>1</td>\n",
       "      <td>15634602</td>\n",
       "      <td>Hargrave</td>\n",
       "      <td>619</td>\n",
       "      <td>France</td>\n",
       "      <td>Female</td>\n",
       "      <td>42</td>\n",
       "      <td>2.0</td>\n",
       "      <td>0.00</td>\n",
       "      <td>1</td>\n",
       "      <td>1</td>\n",
       "      <td>1</td>\n",
       "      <td>101348.88</td>\n",
       "      <td>1</td>\n",
       "    </tr>\n",
       "    <tr>\n",
       "      <th>1</th>\n",
       "      <td>2</td>\n",
       "      <td>15647311</td>\n",
       "      <td>Hill</td>\n",
       "      <td>608</td>\n",
       "      <td>Spain</td>\n",
       "      <td>Female</td>\n",
       "      <td>41</td>\n",
       "      <td>1.0</td>\n",
       "      <td>83807.86</td>\n",
       "      <td>1</td>\n",
       "      <td>0</td>\n",
       "      <td>1</td>\n",
       "      <td>112542.58</td>\n",
       "      <td>0</td>\n",
       "    </tr>\n",
       "    <tr>\n",
       "      <th>2</th>\n",
       "      <td>3</td>\n",
       "      <td>15619304</td>\n",
       "      <td>Onio</td>\n",
       "      <td>502</td>\n",
       "      <td>France</td>\n",
       "      <td>Female</td>\n",
       "      <td>42</td>\n",
       "      <td>8.0</td>\n",
       "      <td>159660.80</td>\n",
       "      <td>3</td>\n",
       "      <td>1</td>\n",
       "      <td>0</td>\n",
       "      <td>113931.57</td>\n",
       "      <td>1</td>\n",
       "    </tr>\n",
       "    <tr>\n",
       "      <th>3</th>\n",
       "      <td>4</td>\n",
       "      <td>15701354</td>\n",
       "      <td>Boni</td>\n",
       "      <td>699</td>\n",
       "      <td>France</td>\n",
       "      <td>Female</td>\n",
       "      <td>39</td>\n",
       "      <td>1.0</td>\n",
       "      <td>0.00</td>\n",
       "      <td>2</td>\n",
       "      <td>0</td>\n",
       "      <td>0</td>\n",
       "      <td>93826.63</td>\n",
       "      <td>0</td>\n",
       "    </tr>\n",
       "    <tr>\n",
       "      <th>4</th>\n",
       "      <td>5</td>\n",
       "      <td>15737888</td>\n",
       "      <td>Mitchell</td>\n",
       "      <td>850</td>\n",
       "      <td>Spain</td>\n",
       "      <td>Female</td>\n",
       "      <td>43</td>\n",
       "      <td>2.0</td>\n",
       "      <td>125510.82</td>\n",
       "      <td>1</td>\n",
       "      <td>1</td>\n",
       "      <td>1</td>\n",
       "      <td>79084.10</td>\n",
       "      <td>0</td>\n",
       "    </tr>\n",
       "  </tbody>\n",
       "</table>\n",
       "</div>"
      ],
      "text/plain": [
       "   RowNumber  CustomerId   Surname  CreditScore Geography  Gender  Age  \\\n",
       "0          1    15634602  Hargrave          619    France  Female   42   \n",
       "1          2    15647311      Hill          608     Spain  Female   41   \n",
       "2          3    15619304      Onio          502    France  Female   42   \n",
       "3          4    15701354      Boni          699    France  Female   39   \n",
       "4          5    15737888  Mitchell          850     Spain  Female   43   \n",
       "\n",
       "   Tenure    Balance  NumOfProducts  HasCrCard  IsActiveMember  \\\n",
       "0     2.0       0.00              1          1               1   \n",
       "1     1.0   83807.86              1          0               1   \n",
       "2     8.0  159660.80              3          1               0   \n",
       "3     1.0       0.00              2          0               0   \n",
       "4     2.0  125510.82              1          1               1   \n",
       "\n",
       "   EstimatedSalary  Exited  \n",
       "0        101348.88       1  \n",
       "1        112542.58       0  \n",
       "2        113931.57       1  \n",
       "3         93826.63       0  \n",
       "4         79084.10       0  "
      ]
     },
     "metadata": {},
     "output_type": "display_data"
    }
   ],
   "source": [
    "# Imputing missing values in 'Tenure' with the median\n",
    "data['Tenure'] = data['Tenure'].fillna(data['Tenure'].median())\n",
    "\n",
    "# Verifying no missing values remain after imputation\n",
    "print(\"\\nNumber of missing values in Tenure:\", data['Tenure'].isnull().sum())\n",
    "\n",
    "# Displaying the head of the processed data.\n",
    "print(\"\\nHead of processed data:\")\n",
    "display(data.head())"
   ]
  },
  {
   "cell_type": "code",
   "execution_count": 7,
   "metadata": {
    "trusted": false
   },
   "outputs": [],
   "source": [
    "# Dropping unnecessary columns\n",
    "data = data.drop(['RowNumber', 'CustomerId', 'Surname'], axis=1)"
   ]
  },
  {
   "cell_type": "code",
   "execution_count": 8,
   "metadata": {
    "trusted": false
   },
   "outputs": [
    {
     "data": {
      "image/png": "[encoded data removed]",
      "text/plain": [
       "<Figure size 1000x600 with 1 Axes>"
      ]
     },
     "metadata": {},
     "output_type": "display_data"
    },
    {
     "data": {
      "image/png": "[encoded data removed]",
      "text/plain": [
       "<Figure size 800x400 with 1 Axes>"
      ]
     },
     "metadata": {},
     "output_type": "display_data"
    },
    {
     "name": "stdout",
     "output_type": "stream",
     "text": [
      "Observations for CreditScore:\n",
      "- CreditScore appears to be relatively normally distributed (skewness: -0.07).\n",
      "- Potential outliers detected.\n",
      "----------------------------------------\n"
     ]
    },
    {
     "data": {
      "image/png": "[encoded data removed]",
      "text/plain": [
       "<Figure size 1000x600 with 1 Axes>"
      ]
     },
     "metadata": {},
     "output_type": "display_data"
    },
    {
     "data": {
      "image/png": "[encoded data removed]",
      "text/plain": [
       "<Figure size 800x400 with 1 Axes>"
      ]
     },
     "metadata": {},
     "output_type": "display_data"
    },
    {
     "name": "stdout",
     "output_type": "stream",
     "text": [
      "Observations for Age:\n",
      "- Age is skewed (skewness: 1.01).\n",
      "- Potential outliers detected.\n",
      "----------------------------------------\n"
     ]
    },
    {
     "data": {
      "image/png": "[encoded data removed]",
      "text/plain": [
       "<Figure size 1000x600 with 1 Axes>"
      ]
     },
     "metadata": {},
     "output_type": "display_data"
    },
    {
     "data": {
      "image/png": "[encoded data removed]",
      "text/plain": [
       "<Figure size 800x400 with 1 Axes>"
      ]
     },
     "metadata": {},
     "output_type": "display_data"
    },
    {
     "name": "stdout",
     "output_type": "stream",
     "text": [
      "Observations for Tenure:\n",
      "- Tenure appears to be relatively normally distributed (skewness: 0.02).\n",
      "- No obvious outliers detected.\n",
      "----------------------------------------\n"
     ]
    },
    {
     "data": {
      "image/png": "[encoded data removed]",
      "text/plain": [
       "<Figure size 1000x600 with 1 Axes>"
      ]
     },
     "metadata": {},
     "output_type": "display_data"
    },
    {
     "data": {
      "image/png": "[encoded data removed]",
      "text/plain": [
       "<Figure size 800x400 with 1 Axes>"
      ]
     },
     "metadata": {},
     "output_type": "display_data"
    },
    {
     "name": "stdout",
     "output_type": "stream",
     "text": [
      "Observations for Balance:\n",
      "- Balance appears to be relatively normally distributed (skewness: -0.14).\n",
      "- Potential outliers detected.\n",
      "----------------------------------------\n"
     ]
    },
    {
     "data": {
      "image/png": "[encoded data removed]",
      "text/plain": [
       "<Figure size 1000x600 with 1 Axes>"
      ]
     },
     "metadata": {},
     "output_type": "display_data"
    },
    {
     "data": {
      "image/png": "[encoded data removed]",
      "text/plain": [
       "<Figure size 800x400 with 1 Axes>"
      ]
     },
     "metadata": {},
     "output_type": "display_data"
    },
    {
     "name": "stdout",
     "output_type": "stream",
     "text": [
      "Observations for NumOfProducts:\n",
      "- NumOfProducts is skewed (skewness: 0.75).\n",
      "- Potential outliers detected.\n",
      "----------------------------------------\n"
     ]
    },
    {
     "data": {
      "image/png": "[encoded data removed]",
      "text/plain": [
       "<Figure size 1000x600 with 1 Axes>"
      ]
     },
     "metadata": {},
     "output_type": "display_data"
    },
    {
     "data": {
      "image/png": "[encoded data removed]",
      "text/plain": [
       "<Figure size 800x400 with 1 Axes>"
      ]
     },
     "metadata": {},
     "output_type": "display_data"
    },
    {
     "name": "stdout",
     "output_type": "stream",
     "text": [
      "Observations for EstimatedSalary:\n",
      "- EstimatedSalary appears to be relatively normally distributed (skewness: 0.00).\n",
      "- Potential outliers detected.\n",
      "----------------------------------------\n"
     ]
    }
   ],
   "source": [
    "# Visualizing and Analyzing Numerical Feature Distributions\n",
    "\n",
    "numerical_cols = ['CreditScore', 'Age', 'Tenure', 'Balance', 'NumOfProducts', 'EstimatedSalary']\n",
    "\n",
    "for col in numerical_cols:\n",
    "    plt.figure(figsize=(10, 6))\n",
    "    sns.histplot(data[col], kde=True)\n",
    "    plt.title(f'Distribution of {col}')\n",
    "    plt.xlabel(col)\n",
    "    plt.ylabel('Frequency')\n",
    "    plt.show()\n",
    "\n",
    "    plt.figure(figsize=(8, 4))\n",
    "    sns.boxplot(x=data[col])\n",
    "    plt.title(f'Boxplot of {col}')\n",
    "    plt.xlabel(col)\n",
    "    plt.show()\n",
    "\n",
    "    print(f\"Observations for {col}:\")\n",
    "    if data[col].skew() > 0.5 or data[col].skew() < -0.5:\n",
    "        print(f\"- {col} is skewed (skewness: {data[col].skew():.2f}).\")\n",
    "    else:\n",
    "        print(f\"- {col} appears to be relatively normally distributed (skewness: {data[col].skew():.2f}).\")\n",
    "\n",
    "    if len(data[data[col] < data[col].quantile(0.01)]) > 0 or len(data[data[col] > data[col].quantile(0.99)]) > 0:\n",
    "      print(\"- Potential outliers detected.\")\n",
    "    else:\n",
    "      print(\"- No obvious outliers detected.\")\n",
    "\n",
    "    print(\"-\" * 40)"
   ]
  },
  {
   "cell_type": "markdown",
   "metadata": {},
   "source": [
    "# Observations on Numerical Feature Distributions\n",
    "\n",
    "Based on the visualizations and statistical analysis, here are some key observations:\n",
    "\n",
    "* **Age:** The 'Age' distribution is positively skewed, indicating a concentration of younger customers with a tail extending towards older ages. Potential outliers are also present, suggesting some customers are significantly older than the majority. This skewness might impact model performance, requiring potential transformations or outlier handling.\n",
    "* **Tenure:** 'Tenure' appears to be relatively normally distributed, suggesting a balanced distribution of customers with varying lengths of bank relationships. No significant outliers were detected.\n",
    "* **Balance:** 'Balance' shows a near-normal distribution. However, potential outliers were detected, indicating some customers have significantly higher or lower balances than the average. This may indicate customer segments with very high or very low account balances.\n",
    "* **NumOfProducts:** 'NumOfProducts' exhibits positive skewness, indicating that many customers use a small number of products, with fewer customers using a larger number of products. Potential outliers are also present.\n",
    "* **EstimatedSalary:** 'EstimatedSalary' shows a near-perfect normal distribution. However, potential outliers were detected. This may indicate some customers have very high or very low salaries compared to the mean."
   ]
  },
  {
   "cell_type": "code",
   "execution_count": 9,
   "metadata": {
    "trusted": false
   },
   "outputs": [],
   "source": [
    "# Splitting the data into features and target\n",
    "target = data['Exited']\n",
    "features = data.drop('Exited', axis=1)"
   ]
  },
  {
   "cell_type": "code",
   "execution_count": 10,
   "metadata": {
    "trusted": false
   },
   "outputs": [],
   "source": [
    "# Splitting the data into training, validation, and test sets\n",
    "features_train, features_test, target_train, target_test = train_test_split(\n",
    "    features, target, test_size=0.20, random_state=12345\n",
    ")\n",
    "features_train, features_valid, target_train, target_valid = train_test_split(\n",
    "    features_train, target_train, test_size=0.25, random_state=12345\n",
    ")"
   ]
  },
  {
   "cell_type": "code",
   "execution_count": 11,
   "metadata": {
    "trusted": false
   },
   "outputs": [],
   "source": [
    "# One-Hot Encoding using OneHotEncoder\n",
    "categorical_cols = features_train.select_dtypes(include='object').columns.tolist()\n",
    "encoder = OneHotEncoder(sparse=False, handle_unknown='ignore')\n",
    "encoder.fit(features_train[categorical_cols])\n",
    "\n",
    "features_train_encoded = encoder.transform(features_train[categorical_cols])\n",
    "features_valid_encoded = encoder.transform(features_valid[categorical_cols])\n",
    "features_test_encoded = encoder.transform(features_test[categorical_cols])\n",
    "\n",
    "feature_names = encoder.get_feature_names(categorical_cols)\n",
    "\n",
    "features_train_encoded_df = pd.DataFrame(features_train_encoded, columns=feature_names, index=features_train.index)\n",
    "features_valid_encoded_df = pd.DataFrame(features_valid_encoded, columns=feature_names, index=features_valid.index)\n",
    "features_test_encoded_df = pd.DataFrame(features_test_encoded, columns=feature_names, index=features_test.index)\n",
    "\n",
    "features_train = features_train.drop(categorical_cols, axis=1)\n",
    "features_valid = features_valid.drop(categorical_cols, axis=1)\n",
    "features_test = features_test.drop(categorical_cols, axis=1)\n",
    "\n",
    "features_train = pd.concat([features_train, features_train_encoded_df], axis=1)\n",
    "features_valid = pd.concat([features_valid, features_valid_encoded_df], axis=1)\n",
    "features_test = pd.concat([features_test, features_test_encoded_df], axis=1)"
   ]
  },
  {
   "cell_type": "markdown",
   "metadata": {},
   "source": [
    "# One-Hot Encoding with `OneHotEncoder`\n",
    "\n",
    "This code block performs one-hot encoding on the categorical features of the training, validation, and test datasets using scikit-learn's `OneHotEncoder`.\n",
    "\n",
    "1.  **Identifying Categorical Columns:**\n",
    "    * `categorical_cols = features_train.select_dtypes(include='object').columns.tolist()`: This line identifies the columns in the training data that contain categorical (object) data. It's crucial to only extract categorical features from the training set, to avoid data leakage.\n",
    "2.  **Initializing and Fitting the Encoder:**\n",
    "    * `encoder = OneHotEncoder(sparse=False, handle_unknown='ignore')`: An instance of `OneHotEncoder` is created. `sparse=False` ensures that the output is a dense NumPy array, and `handle_unknown='ignore'` prevents errors if the validation or test sets contain categories not seen during training.\n",
    "    * `encoder.fit(features_train[categorical_cols])`: The encoder is fitted to the categorical columns of the training data. This step learns the unique categories present in each categorical feature.\n",
    "3.  **Transforming the Data:**\n",
    "    * `features_train_encoded = encoder.transform(features_train[categorical_cols])`: The encoder transforms the categorical columns of the training data into one-hot encoded arrays.\n",
    "    * `features_valid_encoded = encoder.transform(features_valid[categorical_cols])`: The same transformation is applied to the validation data.\n",
    "    * `features_test_encoded = encoder.transform(features_test[categorical_cols])`: And to the test data.\n",
    "4.  **Getting Feature Names and Creating DataFrames:**\n",
    "    * `feature_names = encoder.get_feature_names(categorical_cols)`: this gets the names of the newly created columns.\n",
    "    * `features_train_encoded_df = pd.DataFrame(...)`: The encoded arrays are converted into pandas DataFrames, with column names generated by the encoder and the original index preserved. This is very important for concatenation.\n",
    "    * The same process is repeated for the validation and test sets.\n",
    "5.  **Dropping the Original Categorical Columns and Concatenate:**\n",
    "    * `features_train = features_train.drop(categorical_cols, axis=1)`: The original categorical columns are removed from the training data.\n",
    "    * `features_train = pd.concat(...)`: The one-hot encoded DataFrames are concatenated with the remaining numerical columns.\n",
    "    * The same process is repeated for the validation and test sets.\n",
    "\n",
    "This ensures that the categorical features are properly encoded for use in machine learning models, and that the data is prepared without data leakage."
   ]
  },
  {
   "cell_type": "code",
   "execution_count": 12,
   "metadata": {
    "trusted": false
   },
   "outputs": [],
   "source": [
    "# Scaling the numerical features\n",
    "numeric = ['CreditScore', 'Age', 'Tenure', 'Balance', 'NumOfProducts', 'EstimatedSalary']\n",
    "scaler = StandardScaler()\n",
    "scaler.fit(features_train[numeric])\n",
    "\n",
    "# Apply scaling using .loc\n",
    "features_train.loc[:, numeric] = scaler.transform(features_train[numeric])\n",
    "features_valid.loc[:, numeric] = scaler.transform(features_valid[numeric])\n",
    "features_test.loc[:, numeric] = scaler.transform(features_test[numeric])"
   ]
  },
  {
   "cell_type": "markdown",
   "metadata": {},
   "source": [
    "# Initial Data Exploration and Preprocessing\n",
    "\n",
    "**Observations from Initial Exploration:**\n",
    "\n",
    "* The dataset contains 10,000 customer records with 14 features, including the target variable 'Exited'.\n",
    "* Data types include integers, floats, and objects (categorical).\n",
    "* The 'Tenure' column had missing values, which needed to be addressed.\n",
    "* The 'Surname' column had high cardinality, indicating it might not be a useful feature for the model.\n",
    "* 'Geography' and 'Gender' were identified as categorical features requiring encoding.\n",
    "* The target variable 'Exited' exhibited a class imbalance, with a significantly larger proportion of customers who did not leave the bank (0) compared to those who did (1).\n",
    "* Columns 'RowNumber' and 'CustomerId' were identified as index columns, and thus not relevant for the model.\n",
    "* No duplicate rows were discovered.\n",
    "\n",
    "**Preprocessing Steps:**\n",
    "\n",
    "1.  **Missing Value Handling:**\n",
    "    * Missing values in the 'Tenure' column were imputed using the median value. This approach was chosen due to its robustness to potential outliers in the data.\n",
    "2.  **Column Removal:**\n",
    "    * The 'RowNumber', 'CustomerId', and 'Surname' columns were dropped as they were deemed irrelevant for the model's predictive capabilities.\n",
    "3.  **Categorical Feature Encoding:**\n",
    "    * One-hot encoding was applied to the 'Geography' and 'Gender' columns using `OneHotEncoder()` from scikit-learn. This was done to address concerns about `pd.get_dummies()` potentially causing data leakage and not handling unseen categories in test data effectively. The encoding was performed after splitting the data into training, validation, and test sets to prevent data leakage.\n",
    "4.  **Data Splitting:**\n",
    "    * The data was split into training, validation, and test sets using `train_test_split()` to ensure robust model evaluation. The split was done as 60% train, 20% validation, and 20% test.\n",
    "5.  **Numerical Feature Scaling:**\n",
    "    * Numerical features ('CreditScore', 'Age', 'Tenure', 'Balance', 'NumOfProducts', 'EstimatedSalary') were scaled using `StandardScaler()` to standardize their ranges and ensure that features with larger values do not dominate the model's learning process.\n",
    "6.  **Duplicate Check:**\n",
    "    * A check was performed for any duplicate rows, and no duplicates were found.\n",
    "\n",
    "These preprocessing steps were taken to prepare the data for effective model training and evaluation, addressing issues such as missing values, categorical features, and feature scaling. The use of `OneHotEncoder()` and splitting the data before encoding were implemented to enhance the robustness of the preprocessing pipeline. The next phase will involve addressing the class imbalance and training the models."
   ]
  },
  {
   "cell_type": "code",
   "execution_count": 13,
   "metadata": {
    "trusted": false
   },
   "outputs": [
    {
     "name": "stdout",
     "output_type": "stream",
     "text": [
      "Features train shape: (6000, 13)\n",
      "Target train shape: (6000,)\n",
      "Features valid shape: (2000, 13)\n",
      "Target valid shape: (2000,)\n",
      "Features test shape: (2000, 13)\n",
      "Target test shape: (2000,)\n"
     ]
    }
   ],
   "source": [
    "# Displaying the shapes of the resulting datasets\n",
    "print(\"Features train shape:\", features_train.shape)\n",
    "print(\"Target train shape:\", target_train.shape)\n",
    "print(\"Features valid shape:\", features_valid.shape)\n",
    "print(\"Target valid shape:\", target_valid.shape)\n",
    "print(\"Features test shape:\", features_test.shape)\n",
    "print(\"Target test shape:\", target_test.shape)"
   ]
  },
  {
   "cell_type": "markdown",
   "metadata": {},
   "source": [
    "**Observations:**\n",
    "\n",
    "The data has been successfully split into training, validation, and test sets. The training set comprises 6000 samples with 11 features, while the validation and test sets each contain 2000 samples with the same 11 features. This partitioning ensures a 60/20/20 split, which is suitable for training, model selection, and final evaluation, respectively."
   ]
  },
  {
   "cell_type": "code",
   "execution_count": 14,
   "metadata": {
    "trusted": false
   },
   "outputs": [
    {
     "name": "stdout",
     "output_type": "stream",
     "text": [
      "Class balance:\n",
      "0    0.7963\n",
      "1    0.2037\n",
      "Name: Exited, dtype: float64\n"
     ]
    }
   ],
   "source": [
    "# Examining the Balance of Classes\n",
    "print(\"Class balance:\")\n",
    "print(target.value_counts(normalize=True))"
   ]
  },
  {
   "cell_type": "markdown",
   "metadata": {},
   "source": [
    "**Observations:**\n",
    "\n",
    "The target variable 'Exited' exhibits a significant class imbalance. Approximately 79.6% of the data belongs to class 0 (customers who stayed), while only 20.4% belongs to class 1 (customers who left). This imbalance requires addressing to prevent model bias towards the majority class."
   ]
  },
  {
   "cell_type": "code",
   "execution_count": 15,
   "metadata": {
    "trusted": false
   },
   "outputs": [
    {
     "name": "stdout",
     "output_type": "stream",
     "text": [
      "Model without imbalance:\n",
      "F1: 0.30131826741996237\n",
      "AUC-ROC: 0.7703200825281067\n"
     ]
    }
   ],
   "source": [
    "# Train the Model Without Addressing Imbalance \n",
    "model = LogisticRegression(random_state=12345)\n",
    "model.fit(features_train, target_train)\n",
    "predicted_valid = model.predict(features_valid)\n",
    "\n",
    "print(\"Model without imbalance:\")\n",
    "print(\"F1:\", f1_score(target_valid, predicted_valid))\n",
    "print(\"AUC-ROC:\", roc_auc_score(target_valid, model.predict_proba(features_valid)[:, 1]))"
   ]
  },
  {
   "cell_type": "markdown",
   "metadata": {},
   "source": [
    "**Observations:**\n",
    "\n",
    "The model trained without addressing class imbalance demonstrates a low F1 score of 0.3013, indicating poor performance in balancing precision and recall. While the AUC-ROC of 0.7703 suggests some ability to distinguish between classes, the low F1 score highlights the model's bias towards the majority class, hindering its ability to accurately predict the minority class."
   ]
  },
  {
   "cell_type": "code",
   "execution_count": 16,
   "metadata": {
    "trusted": false
   },
   "outputs": [
    {
     "name": "stdout",
     "output_type": "stream",
     "text": [
      "\n",
      "Model with class weighting:\n",
      "F1: 0.47500000000000003\n",
      "AUC-ROC: 0.7725374690638815\n"
     ]
    }
   ],
   "source": [
    "# Model with class weighting\n",
    "model_weighted = LogisticRegression(random_state=12345, class_weight='balanced')\n",
    "model_weighted.fit(features_train, target_train)\n",
    "predicted_valid_weighted = model_weighted.predict(features_valid)\n",
    "\n",
    "print(\"\\nModel with class weighting:\")\n",
    "print(\"F1:\", f1_score(target_valid, predicted_valid_weighted))\n",
    "print(\"AUC-ROC:\", roc_auc_score(target_valid, model_weighted.predict_proba(features_valid)[:, 1]))"
   ]
  },
  {
   "cell_type": "markdown",
   "metadata": {},
   "source": [
    "**Observations:**\n",
    "\n",
    "Applying class weighting to the model resulted in a significant improvement in the F1 score, rising to 0.4750, compared to the model without class weighting. This indicates that the model's ability to balance precision and recall has improved. The AUC-ROC score also saw a slight increase to 0.7725, suggesting a marginal enhancement in the model's ability to distinguish between the positive and negative classes."
   ]
  },
  {
   "cell_type": "code",
   "execution_count": 17,
   "metadata": {
    "trusted": false
   },
   "outputs": [
    {
     "name": "stdout",
     "output_type": "stream",
     "text": [
      "\n",
      "Model with upsampling:\n",
      "F1: 0.476693051890941\n",
      "AUC-ROC: 0.7725485957346703\n"
     ]
    }
   ],
   "source": [
    "# Upsampling \n",
    "def upsample(features, target, repeat):\n",
    "    features_zeros = features[target == 0]\n",
    "    features_ones = features[target == 1]\n",
    "    target_zeros = target[target == 0]\n",
    "    target_ones = target[target == 1]\n",
    "\n",
    "    features_upsampled = pd.concat([features_zeros, features_ones] + [features_ones] * (repeat - 1))\n",
    "    target_upsampled = pd.concat([target_zeros, target_ones] + [target_ones] * (repeat - 1))\n",
    "\n",
    "    features_upsampled, target_upsampled = shuffle(\n",
    "        features_upsampled, target_upsampled, random_state=12345\n",
    "    )\n",
    "\n",
    "    return features_upsampled, target_upsampled\n",
    "\n",
    "features_upsampled, target_upsampled = upsample(features_train, target_train, 4)\n",
    "\n",
    "model_upsampled = LogisticRegression(random_state=12345)\n",
    "model_upsampled.fit(features_upsampled, target_upsampled)\n",
    "predicted_valid_upsampled = model_upsampled.predict(features_valid)\n",
    "\n",
    "print(\"\\nModel with upsampling:\")\n",
    "print(\"F1:\", f1_score(target_valid, predicted_valid_upsampled))\n",
    "print(\"AUC-ROC:\", roc_auc_score(target_valid, model_upsampled.predict_proba(features_valid)[:, 1]))"
   ]
  },
  {
   "cell_type": "markdown",
   "metadata": {},
   "source": [
    "**Observations:**\n",
    "\n",
    "The model trained with upsampling achieved an F1 score of 0.4766, showing a similar level of performance compared to the model with class weighting. The AUC-ROC score of 0.7725 is also very close to that of the class-weighted model. This indicates that upsampling effectively addressed the class imbalance, leading to improved model performance, particularly in balancing precision and recall."
   ]
  },
  {
   "cell_type": "code",
   "execution_count": 18,
   "metadata": {
    "trusted": false
   },
   "outputs": [
    {
     "name": "stdout",
     "output_type": "stream",
     "text": [
      "\n",
      "Random forest with class weight:\n",
      "F1: 0.5921219822109276\n",
      "AUC-ROC: 0.8486423077351025\n"
     ]
    }
   ],
   "source": [
    "# Random Forest with class weight\n",
    "model_rf = RandomForestClassifier(random_state=12345, n_estimators = 100, max_depth = 10, class_weight = 'balanced')\n",
    "model_rf.fit(features_train, target_train)\n",
    "predicted_valid_rf = model_rf.predict(features_valid)\n",
    "\n",
    "print(\"\\nRandom forest with class weight:\")\n",
    "print(\"F1:\", f1_score(target_valid, predicted_valid_rf))\n",
    "print(\"AUC-ROC:\", roc_auc_score(target_valid, model_rf.predict_proba(features_valid)[:, 1]))"
   ]
  },
  {
   "cell_type": "markdown",
   "metadata": {},
   "source": [
    "**Observations:**\n",
    "\n",
    "The Random Forest Classifier, when trained with class weighting, achieved an F1 score of 0.5921, successfully meeting the minimum target of 0.59. Additionally, the model demonstrated a high AUC-ROC score of 0.8486, indicating a strong ability to distinguish between customers who churn and those who do not. This suggests that the Random Forest model, with appropriate handling of class imbalance, is effective for this prediction task."
   ]
  },
  {
   "cell_type": "code",
   "execution_count": 19,
   "metadata": {
    "trusted": false
   },
   "outputs": [
    {
     "name": "stdout",
     "output_type": "stream",
     "text": [
      "\n",
      "Random forest without class weight (imbalanced data):\n",
      "F1: 0.549342105263158\n",
      "AUC-ROC: 0.8512125686873231\n",
      "\n",
      "Random forest with tuned hyperparameters:\n",
      "Best parameters: {'max_depth': 10, 'min_samples_leaf': 2, 'min_samples_split': 2, 'n_estimators': 50}\n",
      "F1: 0.59727385377943\n",
      "AUC-ROC: 0.8498662415218743\n"
     ]
    }
   ],
   "source": [
    "# Random Forest without class weight (for comparison)\n",
    "model_rf_unbalanced = RandomForestClassifier(random_state=12345, n_estimators=100, max_depth=10)\n",
    "model_rf_unbalanced.fit(features_train, target_train)\n",
    "predicted_valid_rf_unbalanced = model_rf_unbalanced.predict(features_valid)\n",
    "\n",
    "print(\"\\nRandom forest without class weight (imbalanced data):\")\n",
    "print(\"F1:\", f1_score(target_valid, predicted_valid_rf_unbalanced))\n",
    "print(\"AUC-ROC:\", roc_auc_score(target_valid, model_rf_unbalanced.predict_proba(features_valid)[:, 1]))\n",
    "\n",
    "# Hyperparameter Tuning for Random Forest\n",
    "param_grid = {\n",
    "    'n_estimators': [50, 100, 200],\n",
    "    'max_depth': [5, 10, 15],\n",
    "    'min_samples_split': [2, 5, 10],\n",
    "    'min_samples_leaf': [1, 2, 4]\n",
    "}\n",
    "\n",
    "grid_search = GridSearchCV(\n",
    "    estimator=RandomForestClassifier(random_state=12345, class_weight='balanced'),\n",
    "    param_grid=param_grid,\n",
    "    cv=3,  \n",
    "    scoring='f1',\n",
    "    n_jobs=-1  \n",
    ")\n",
    "\n",
    "grid_search.fit(features_train, target_train)\n",
    "\n",
    "best_rf = grid_search.best_estimator_\n",
    "predicted_valid_best_rf = best_rf.predict(features_valid)\n",
    "\n",
    "print(\"\\nRandom forest with tuned hyperparameters:\")\n",
    "print(\"Best parameters:\", grid_search.best_params_)\n",
    "print(\"F1:\", f1_score(target_valid, predicted_valid_best_rf))\n",
    "print(\"AUC-ROC:\", roc_auc_score(target_valid, best_rf.predict_proba(features_valid)[:, 1]))"
   ]
  },
  {
   "cell_type": "markdown",
   "metadata": {},
   "source": [
    "# Observations on Random Forest Model Performance\n",
    "\n",
    "**Random Forest Without Class Weight (Imbalanced Data):**\n",
    "\n",
    "* The Random Forest model trained on the imbalanced data, without any class weight adjustments, achieved an F1 score of approximately 0.549.\n",
    "* The AUC-ROC score was relatively high, at approximately 0.851.\n",
    "* This indicates that while the model had a good ability to distinguish between classes (as shown by the AUC-ROC), its precision and recall (reflected in the F1 score) were moderately impacted by the class imbalance.\n",
    "\n",
    "**Random Forest with Tuned Hyperparameters:**\n",
    "\n",
    "* After hyperparameter tuning using GridSearchCV, the Random Forest model's F1 score improved to approximately 0.597.\n",
    "* The best parameters identified were `{'max_depth': 10, 'min_samples_leaf': 2, 'min_samples_split': 2, 'n_estimators': 50}`.\n",
    "* The AUC-ROC score remained high, at approximately 0.849, which is very close to the AUC-ROC score of the model without tuning.\n",
    "* The tuning process successfully increased the F1 score, suggesting that optimizing the model's hyperparameters can lead to better performance, even with class imbalance. The increase in F1 score means that the model's ability to balance precision and recall was improved by hyperparameter tuning.\n",
    "* Even though the AUC-ROC is very close, the F1 score is a more important metric for this project."
   ]
  },
  {
   "cell_type": "code",
   "execution_count": 20,
   "metadata": {
    "trusted": false
   },
   "outputs": [
    {
     "name": "stdout",
     "output_type": "stream",
     "text": [
      "\n",
      "Final testing (Tuned Random Forest):\n",
      "F1: 0.6366782006920416\n",
      "AUC-ROC: 0.8696266475700157\n"
     ]
    }
   ],
   "source": [
    "# Final testing\n",
    "predicted_test = best_rf.predict(features_test)  # Using best_rf (tuned model)\n",
    "\n",
    "print(\"\\nFinal testing (Tuned Random Forest):\")\n",
    "print(\"F1:\", f1_score(target_test, predicted_test))\n",
    "print(\"AUC-ROC:\", roc_auc_score(target_test, best_rf.predict_proba(features_test)[:, 1]))"
   ]
  },
  {
   "cell_type": "markdown",
   "metadata": {},
   "source": [
    "**Observations:**\n",
    "\n",
    "The final model, when tested on the unseen test dataset, achieved a strong F1 score of 0.6366, surpassing the project's target of 0.59. This indicates a good balance between precision and recall. Additionally, the model exhibited a high AUC-ROC score of 0.8696, demonstrating its excellent ability to distinguish between customers who churn and those who do not. These results confirm the model's effectiveness and generalization capabilities."
   ]
  },
  {
   "cell_type": "code",
   "execution_count": 21,
   "metadata": {
    "trusted": false
   },
   "outputs": [
    {
     "name": "stdout",
     "output_type": "stream",
     "text": [
      "\n",
      "Constant Model (Majority Class):\n",
      "F1: 0.0\n",
      "AUC-ROC: 0.5\n",
      "\n",
      "Tuned Random Forest Model:\n",
      "F1: 0.6366782006920416\n",
      "AUC-ROC: 0.8696266475700157\n"
     ]
    }
   ],
   "source": [
    "# Constant model (predicts majority class)\n",
    "dummy_model = DummyClassifier(strategy='most_frequent')\n",
    "dummy_model.fit(features_train, target_train)  \n",
    "dummy_predictions = dummy_model.predict(features_test)\n",
    "\n",
    "dummy_f1 = f1_score(target_test, dummy_predictions)\n",
    "dummy_auc_roc = roc_auc_score(target_test, dummy_model.predict_proba(features_test)[:, 1])\n",
    "\n",
    "print(\"\\nConstant Model (Majority Class):\")\n",
    "print(\"F1:\", dummy_f1)\n",
    "print(\"AUC-ROC:\", dummy_auc_roc)\n",
    "\n",
    "print(\"\\nTuned Random Forest Model:\")\n",
    "print(\"F1:\", f1_score(target_test, best_rf.predict(features_test)))\n",
    "print(\"AUC-ROC:\", roc_auc_score(target_test, best_rf.predict_proba(features_test)[:, 1]))"
   ]
  },
  {
   "cell_type": "code",
   "execution_count": 22,
   "metadata": {
    "trusted": false
   },
   "outputs": [
    {
     "data": {
      "image/png": "[encoded data removed]",
      "text/plain": [
       "<Figure size 800x600 with 1 Axes>"
      ]
     },
     "metadata": {},
     "output_type": "display_data"
    }
   ],
   "source": [
    "# Displaying the ROC curve\n",
    "y_pred_proba = best_rf.predict_proba(features_test)[:, 1]\n",
    "fpr, tpr, thresholds = roc_curve(target_test, y_pred_proba)\n",
    "roc_auc = auc(fpr, tpr)\n",
    "\n",
    "plt.figure(figsize=(8, 6))\n",
    "plt.plot(fpr, tpr, label=f'ROC curve (area = {roc_auc:.2f})')\n",
    "plt.plot([0, 1], [0, 1], 'k--')  # Diagonal line (random guessing)\n",
    "plt.xlim([0.0, 1.0])\n",
    "plt.ylim([0.0, 1.05])\n",
    "plt.xlabel('False Positive Rate')\n",
    "plt.ylabel('True Positive Rate')\n",
    "plt.title('Receiver Operating Characteristic (ROC) Curve')\n",
    "plt.legend(loc=\"lower right\")\n",
    "plt.show()"
   ]
  },
  {
   "cell_type": "markdown",
   "metadata": {},
   "source": [
    "# Sanity Check: Constant Model vs. Tuned Random Forest\n",
    "\n",
    "**Constant Model (Majority Class):**\n",
    "\n",
    "* The constant model, which always predicts the majority class (customers who did not churn), achieved an F1 score of 0.0.\n",
    "* The AUC-ROC score was 0.5, indicating random guessing.\n",
    "* This is expected, as the model does not learn any patterns from the data and simply predicts the most frequent outcome.\n",
    "\n",
    "**Tuned Random Forest Model:**\n",
    "\n",
    "* The tuned Random Forest model, after hyperparameter optimization, achieved a significantly higher F1 score of approximately 0.637.\n",
    "* The AUC-ROC score was approximately 0.87, demonstrating a strong ability to distinguish between customers who churn and those who do not.\n",
    "* The large difference in F1 and AUC-ROC scores between the constant model and the tuned Random Forest confirms that the Random Forest model has learned meaningful patterns from the data and is significantly more effective at predicting customer churn. This sanity check validates the usefulness of the trained model."
   ]
  },
  {
   "cell_type": "markdown",
   "metadata": {},
   "source": [
    "# Observation on the ROC Curve\n",
    "\n",
    "The Receiver Operating Characteristic (ROC) curve for the tuned Random Forest model demonstrates a strong performance. The curve is positioned well above the diagonal line, indicating that the model performs significantly better than random guessing.\n",
    "\n",
    "The Area Under the Curve (AUC) is 0.87. This high AUC value signifies that the model has a high ability to distinguish between customers who churn and those who do not. Specifically, there's an 87% chance that the model will rank a random positive case (customer who churned) higher than a random negative case (customer who didn't churn).\n",
    "\n",
    "The curve's steep ascent in the lower left corner suggests that the model achieves a high True Positive Rate (TPR) with a relatively low False Positive Rate (FPR). This is desirable as it indicates that the model is effective at identifying actual churners without generating too many false alarms.\n",
    "\n",
    "In summary, the ROC curve and its associated AUC score confirm the model's robustness and its ability to accurately predict customer churn."
   ]
  },
  {
   "cell_type": "markdown",
   "metadata": {},
   "source": [
    "# Conclusions and Observations: Predicting Customer Churn at Beta Bank\n",
    "\n",
    "**Observations:**\n",
    "\n",
    "* **Data Characteristics:**\n",
    "    * The dataset exhibited a significant class imbalance, with a much larger proportion of customers who did not leave the bank compared to those who did. This imbalance was a major challenge that was effectively addressed.\n",
    "    * Numerical features such as 'Age' and 'NumOfProducts' showed skewness, while 'Tenure' and 'EstimatedSalary' were relatively normally distributed. 'Balance' was near normal, however, like age and NumOfProducts, balance contained outliers.\n",
    "* **Preprocessing Impact:**\n",
    "    * Effective data preprocessing, including handling missing values, encoding categorical features using `OneHotEncoder` after splitting the data, and scaling numerical features, was crucial for model performance.\n",
    "    * One hot encoding was performed using the onehotencoder, to prevent data leakage, and handle unknown values, as opposed to get_dummies.\n",
    "* **Class Imbalance Handling:**\n",
    "    * Techniques like class weighting and hyperparameter tuning significantly improved the model's ability to identify customers likely to churn, as evidenced by the increase in F1 score.\n",
    "    * The random forest was trained on the imbalanced data, and then with class weights, to show the effect of the class weights.\n",
    "* **Model Performance:**\n",
    "    * The Random Forest Classifier with tuned hyperparameters and class weighting outperformed the Logistic Regression model and the untuned random forest model, achieving the target F1 score of 0.59 and demonstrating strong performance in both F1 score and AUC-ROC.\n",
    "    * Hyperparameter tuning increased the F1 score of the random forest model.\n",
    "* **Generalization:**\n",
    "    * The model generalized well to the test set, indicating its robustness and ability to perform on unseen data.\n",
    "* **Metric Alignment:**\n",
    "    * The F1 score and AUC-ROC metrics were consistent, with improvements in one generally reflecting improvements in the other, indicating a well-performing model.\n",
    "* **Sanity Check:**\n",
    "    * A sanity check using a constant model (predicting the majority class) showed an F1 score of 0.0 and an AUC-ROC of 0.5, confirming that the tuned Random Forest model learned meaningful patterns and significantly outperformed random guessing.\n",
    "* **ROC Curve:**\n",
    "    * The ROC curve for the tuned Random Forest model demonstrated strong performance, with an AUC of 0.87, indicating a high ability to distinguish between customers who churn and those who do not.\n",
    "\n",
    "**Conclusions:**\n",
    "\n",
    "* The Random Forest Classifier, when combined with hyperparameter tuning and class weighting to address the imbalance, is highly effective in predicting customer churn at Beta Bank.\n",
    "* The model achieved an F1 score of 0.6391 on the test set, exceeding the project's target of 0.59, demonstrating its practical utility.\n",
    "* The high AUC-ROC score (0.8635) indicates that the model is excellent at distinguishing between customers who will churn and those who will not.\n",
    "* Beta Bank can use this model to proactively identify customers at risk of churn and implement targeted retention strategies.\n",
    "\n",
    "**Recommendations:**\n",
    "\n",
    "* Implement the Random Forest model with tuned hyperparameters and class weighting to predict customer churn.\n",
    "* Focus retention efforts on customers identified as high-risk by the model.\n",
    "* Continuously monitor and retrain the model with new data to maintain its accuracy.\n",
    "* Consider further analysis of the outliers observed in the data, in order to gain more insight into those customer segments."
   ]
  },
  {
   "cell_type": "markdown",
   "metadata": {},
   "source": [
    "Thank you for your feedback, I believe I addressed all the concerns. I have learned a lot, please let me know if I need to do anything else."
   ]
  }
 ],
 "metadata": {
  "ExecuteTimeLog": [
   {
    "duration": 2914,
    "start_time": "2025-03-16T01:47:51.399Z"
   },
   {
    "duration": 27,
    "start_time": "2025-03-16T01:48:39.945Z"
   },
   {
    "duration": 46,
    "start_time": "2025-03-16T01:50:51.048Z"
   },
   {
    "duration": 13,
    "start_time": "2025-03-16T01:54:49.047Z"
   },
   {
    "duration": 9,
    "start_time": "2025-03-16T01:59:52.674Z"
   },
   {
    "duration": 3,
    "start_time": "2025-03-16T02:05:48.415Z"
   },
   {
    "duration": 8,
    "start_time": "2025-03-16T02:06:17.151Z"
   },
   {
    "duration": 5,
    "start_time": "2025-03-16T02:07:02.014Z"
   },
   {
    "duration": 7,
    "start_time": "2025-03-16T02:07:50.758Z"
   },
   {
    "duration": 23,
    "start_time": "2025-03-16T02:08:34.645Z"
   },
   {
    "duration": 19,
    "start_time": "2025-03-16T02:12:45.894Z"
   },
   {
    "duration": 17,
    "start_time": "2025-03-16T02:14:40.192Z"
   },
   {
    "duration": 3,
    "start_time": "2025-03-16T02:15:56.943Z"
   },
   {
    "duration": 17,
    "start_time": "2025-03-16T02:16:01.712Z"
   },
   {
    "duration": 4,
    "start_time": "2025-03-16T02:16:47.144Z"
   },
   {
    "duration": 4,
    "start_time": "2025-03-16T02:21:06.736Z"
   },
   {
    "duration": 28,
    "start_time": "2025-03-16T02:24:42.383Z"
   },
   {
    "duration": 22,
    "start_time": "2025-03-16T02:26:01.645Z"
   },
   {
    "duration": 29,
    "start_time": "2025-03-16T02:26:47.719Z"
   },
   {
    "duration": 503,
    "start_time": "2025-03-16T02:27:45.941Z"
   },
   {
    "duration": 54,
    "start_time": "2025-03-16T02:28:21.885Z"
   },
   {
    "duration": 922,
    "start_time": "2025-03-16T02:36:53.793Z"
   },
   {
    "duration": 17,
    "start_time": "2025-03-16T02:37:00.174Z"
   },
   {
    "duration": 45,
    "start_time": "2025-03-16T02:37:03.956Z"
   },
   {
    "duration": 13,
    "start_time": "2025-03-16T02:37:12.336Z"
   },
   {
    "duration": 9,
    "start_time": "2025-03-16T02:37:28.287Z"
   },
   {
    "duration": 4,
    "start_time": "2025-03-16T02:37:36.536Z"
   },
   {
    "duration": 8,
    "start_time": "2025-03-16T02:37:44.321Z"
   },
   {
    "duration": 5,
    "start_time": "2025-03-16T02:37:57.620Z"
   },
   {
    "duration": 6,
    "start_time": "2025-03-16T02:38:08.056Z"
   },
   {
    "duration": 3,
    "start_time": "2025-03-16T02:38:25.457Z"
   },
   {
    "duration": 19,
    "start_time": "2025-03-16T02:38:38.735Z"
   },
   {
    "duration": 4,
    "start_time": "2025-03-16T02:39:05.175Z"
   },
   {
    "duration": 5,
    "start_time": "2025-03-16T02:40:57.818Z"
   },
   {
    "duration": 24,
    "start_time": "2025-03-16T02:42:52.353Z"
   },
   {
    "duration": 21,
    "start_time": "2025-03-16T02:44:32.443Z"
   },
   {
    "duration": 28,
    "start_time": "2025-03-16T02:46:12.634Z"
   },
   {
    "duration": 500,
    "start_time": "2025-03-16T02:47:49.415Z"
   },
   {
    "duration": 54,
    "start_time": "2025-03-16T02:49:36.341Z"
   },
   {
    "duration": 931,
    "start_time": "2025-03-16T02:58:15.989Z"
   },
   {
    "duration": 16,
    "start_time": "2025-03-16T02:58:16.923Z"
   },
   {
    "duration": 47,
    "start_time": "2025-03-16T02:58:16.940Z"
   },
   {
    "duration": 14,
    "start_time": "2025-03-16T02:58:16.988Z"
   },
   {
    "duration": 8,
    "start_time": "2025-03-16T02:58:17.004Z"
   },
   {
    "duration": 3,
    "start_time": "2025-03-16T02:58:17.013Z"
   },
   {
    "duration": 9,
    "start_time": "2025-03-16T02:58:17.018Z"
   },
   {
    "duration": 5,
    "start_time": "2025-03-16T02:58:17.028Z"
   },
   {
    "duration": 7,
    "start_time": "2025-03-16T02:58:17.034Z"
   },
   {
    "duration": 2,
    "start_time": "2025-03-16T02:58:17.043Z"
   },
   {
    "duration": 56,
    "start_time": "2025-03-16T02:58:17.047Z"
   },
   {
    "duration": 3,
    "start_time": "2025-03-16T02:58:17.104Z"
   },
   {
    "duration": 4,
    "start_time": "2025-03-16T02:58:17.109Z"
   },
   {
    "duration": 73,
    "start_time": "2025-03-16T02:58:17.116Z"
   },
   {
    "duration": 96,
    "start_time": "2025-03-16T02:58:17.191Z"
   },
   {
    "duration": 107,
    "start_time": "2025-03-16T02:58:17.289Z"
   },
   {
    "duration": 616,
    "start_time": "2025-03-16T02:58:17.398Z"
   },
   {
    "duration": 53,
    "start_time": "2025-03-16T02:58:18.016Z"
   },
   {
    "duration": 2742,
    "start_time": "2025-03-17T01:07:09.383Z"
   },
   {
    "duration": 26,
    "start_time": "2025-03-17T01:07:16.095Z"
   },
   {
    "duration": 63,
    "start_time": "2025-03-17T01:12:11.493Z"
   },
   {
    "duration": 17,
    "start_time": "2025-03-17T01:12:42.851Z"
   },
   {
    "duration": 13,
    "start_time": "2025-03-17T01:12:50.714Z"
   },
   {
    "duration": 8,
    "start_time": "2025-03-17T01:12:58.183Z"
   },
   {
    "duration": 4,
    "start_time": "2025-03-17T01:13:40.284Z"
   },
   {
    "duration": 1009,
    "start_time": "2025-03-17T01:17:34.258Z"
   },
   {
    "duration": 16,
    "start_time": "2025-03-17T01:17:37.552Z"
   },
   {
    "duration": 51,
    "start_time": "2025-03-17T01:18:08.075Z"
   },
   {
    "duration": 18,
    "start_time": "2025-03-17T01:18:15.990Z"
   },
   {
    "duration": 13,
    "start_time": "2025-03-17T01:18:21.973Z"
   },
   {
    "duration": 8,
    "start_time": "2025-03-17T01:18:27.413Z"
   },
   {
    "duration": 12,
    "start_time": "2025-03-17T01:19:03.381Z"
   },
   {
    "duration": 3,
    "start_time": "2025-03-17T01:19:16.598Z"
   },
   {
    "duration": 2404,
    "start_time": "2025-03-17T01:24:45.016Z"
   },
   {
    "duration": 8,
    "start_time": "2025-03-17T01:32:11.972Z"
   },
   {
    "duration": 996,
    "start_time": "2025-03-17T01:58:03.448Z"
   },
   {
    "duration": 16,
    "start_time": "2025-03-17T01:58:18.631Z"
   },
   {
    "duration": 58,
    "start_time": "2025-03-17T01:58:31.609Z"
   },
   {
    "duration": 17,
    "start_time": "2025-03-17T01:58:40.335Z"
   },
   {
    "duration": 14,
    "start_time": "2025-03-17T01:58:54.219Z"
   },
   {
    "duration": 13,
    "start_time": "2025-03-17T01:59:05.048Z"
   },
   {
    "duration": 4,
    "start_time": "2025-03-17T01:59:15.245Z"
   },
   {
    "duration": 2336,
    "start_time": "2025-03-17T01:59:21.588Z"
   },
   {
    "duration": 3,
    "start_time": "2025-03-17T02:01:27.496Z"
   },
   {
    "duration": 7,
    "start_time": "2025-03-17T02:01:44.631Z"
   },
   {
    "duration": 266,
    "start_time": "2025-03-17T02:05:54.148Z"
   },
   {
    "duration": 25,
    "start_time": "2025-03-17T02:07:58.147Z"
   },
   {
    "duration": 29,
    "start_time": "2025-03-17T02:10:27.505Z"
   },
   {
    "duration": 31,
    "start_time": "2025-03-17T02:13:59.928Z"
   },
   {
    "duration": 18,
    "start_time": "2025-03-17T02:15:40.481Z"
   },
   {
    "duration": 30,
    "start_time": "2025-03-17T02:21:04.898Z"
   },
   {
    "duration": 4,
    "start_time": "2025-03-17T02:29:13.587Z"
   },
   {
    "duration": 4,
    "start_time": "2025-03-17T02:29:56.925Z"
   },
   {
    "duration": 22,
    "start_time": "2025-03-17T02:30:58.738Z"
   },
   {
    "duration": 24,
    "start_time": "2025-03-17T02:31:11.038Z"
   },
   {
    "duration": 109,
    "start_time": "2025-03-17T02:33:03.404Z"
   },
   {
    "duration": 461,
    "start_time": "2025-03-17T02:35:17.059Z"
   },
   {
    "duration": 81806,
    "start_time": "2025-03-17T02:39:36.610Z"
   },
   {
    "duration": 55,
    "start_time": "2025-03-17T02:44:21.869Z"
   },
   {
    "duration": 43,
    "start_time": "2025-03-17T03:01:05.454Z"
   },
   {
    "duration": 43,
    "start_time": "2025-03-17T03:01:31.540Z"
   },
   {
    "duration": 32,
    "start_time": "2025-03-17T03:04:05.574Z"
   },
   {
    "duration": 17,
    "start_time": "2025-03-17T03:06:23.864Z"
   },
   {
    "duration": 3,
    "start_time": "2025-03-17T03:07:15.461Z"
   },
   {
    "duration": 36,
    "start_time": "2025-03-17T03:07:25.492Z"
   },
   {
    "duration": 35,
    "start_time": "2025-03-17T03:12:41.269Z"
   },
   {
    "duration": 3,
    "start_time": "2025-03-17T03:15:19.895Z"
   },
   {
    "duration": 29,
    "start_time": "2025-03-17T03:16:52.181Z"
   },
   {
    "duration": 31,
    "start_time": "2025-03-17T03:21:24.720Z"
   },
   {
    "duration": 3,
    "start_time": "2025-03-17T03:21:36.694Z"
   },
   {
    "duration": 132,
    "start_time": "2025-03-17T03:21:47.188Z"
   },
   {
    "duration": 1123,
    "start_time": "2025-03-17T03:25:07.603Z"
   },
   {
    "duration": 17,
    "start_time": "2025-03-17T03:25:08.729Z"
   },
   {
    "duration": 73,
    "start_time": "2025-03-17T03:25:08.748Z"
   },
   {
    "duration": 18,
    "start_time": "2025-03-17T03:25:08.823Z"
   },
   {
    "duration": 15,
    "start_time": "2025-03-17T03:25:08.843Z"
   },
   {
    "duration": 14,
    "start_time": "2025-03-17T03:25:08.861Z"
   },
   {
    "duration": 37,
    "start_time": "2025-03-17T03:25:08.877Z"
   },
   {
    "duration": 2531,
    "start_time": "2025-03-17T03:25:08.916Z"
   },
   {
    "duration": 3,
    "start_time": "2025-03-17T03:25:11.449Z"
   },
   {
    "duration": 7,
    "start_time": "2025-03-17T03:25:11.455Z"
   },
   {
    "duration": 20,
    "start_time": "2025-03-17T03:25:11.464Z"
   },
   {
    "duration": 48,
    "start_time": "2025-03-17T03:25:11.485Z"
   },
   {
    "duration": 4,
    "start_time": "2025-03-17T03:25:11.534Z"
   },
   {
    "duration": 4,
    "start_time": "2025-03-17T03:25:11.542Z"
   },
   {
    "duration": 79,
    "start_time": "2025-03-17T03:25:11.548Z"
   },
   {
    "duration": 105,
    "start_time": "2025-03-17T03:25:11.629Z"
   },
   {
    "duration": 123,
    "start_time": "2025-03-17T03:25:11.811Z"
   },
   {
    "duration": 554,
    "start_time": "2025-03-17T03:25:12.012Z"
   },
   {
    "duration": 83996,
    "start_time": "2025-03-17T03:25:12.568Z"
   },
   {
    "duration": 45,
    "start_time": "2025-03-17T03:26:36.566Z"
   },
   {
    "duration": 145,
    "start_time": "2025-03-17T03:26:36.613Z"
   },
   {
    "duration": 51,
    "start_time": "2025-03-17T03:26:36.761Z"
   },
   {
    "duration": 148,
    "start_time": "2025-03-17T03:26:36.814Z"
   },
   {
    "duration": 992,
    "start_time": "2025-03-17T03:38:46.666Z"
   },
   {
    "duration": 17,
    "start_time": "2025-03-17T03:38:47.660Z"
   },
   {
    "duration": 61,
    "start_time": "2025-03-17T03:38:47.679Z"
   },
   {
    "duration": 18,
    "start_time": "2025-03-17T03:38:47.743Z"
   },
   {
    "duration": 16,
    "start_time": "2025-03-17T03:38:47.762Z"
   },
   {
    "duration": 39,
    "start_time": "2025-03-17T03:38:47.780Z"
   },
   {
    "duration": 4,
    "start_time": "2025-03-17T03:38:47.821Z"
   },
   {
    "duration": 2388,
    "start_time": "2025-03-17T03:38:47.827Z"
   },
   {
    "duration": 3,
    "start_time": "2025-03-17T03:38:50.217Z"
   },
   {
    "duration": 6,
    "start_time": "2025-03-17T03:38:50.223Z"
   },
   {
    "duration": 16,
    "start_time": "2025-03-17T03:38:50.231Z"
   },
   {
    "duration": 19,
    "start_time": "2025-03-17T03:38:50.248Z"
   },
   {
    "duration": 3,
    "start_time": "2025-03-17T03:38:50.268Z"
   },
   {
    "duration": 5,
    "start_time": "2025-03-17T03:38:50.273Z"
   },
   {
    "duration": 24,
    "start_time": "2025-03-17T03:38:50.311Z"
   },
   {
    "duration": 96,
    "start_time": "2025-03-17T03:38:50.337Z"
   },
   {
    "duration": 186,
    "start_time": "2025-03-17T03:38:50.435Z"
   },
   {
    "duration": 576,
    "start_time": "2025-03-17T03:38:50.625Z"
   },
   {
    "duration": 82612,
    "start_time": "2025-03-17T03:38:51.203Z"
   },
   {
    "duration": 30,
    "start_time": "2025-03-17T03:40:13.817Z"
   },
   {
    "duration": 34,
    "start_time": "2025-03-17T03:40:13.848Z"
   },
   {
    "duration": 144,
    "start_time": "2025-03-17T03:40:13.883Z"
   },
   {
    "duration": 950,
    "start_time": "2025-03-17T03:52:15.704Z"
   },
   {
    "duration": 16,
    "start_time": "2025-03-17T03:52:16.656Z"
   },
   {
    "duration": 59,
    "start_time": "2025-03-17T03:52:16.673Z"
   },
   {
    "duration": 15,
    "start_time": "2025-03-17T03:52:16.734Z"
   },
   {
    "duration": 12,
    "start_time": "2025-03-17T03:52:16.752Z"
   },
   {
    "duration": 11,
    "start_time": "2025-03-17T03:52:16.766Z"
   },
   {
    "duration": 4,
    "start_time": "2025-03-17T03:52:16.779Z"
   },
   {
    "duration": 2437,
    "start_time": "2025-03-17T03:52:16.784Z"
   },
   {
    "duration": 3,
    "start_time": "2025-03-17T03:52:19.222Z"
   },
   {
    "duration": 6,
    "start_time": "2025-03-17T03:52:19.227Z"
   },
   {
    "duration": 16,
    "start_time": "2025-03-17T03:52:19.235Z"
   },
   {
    "duration": 20,
    "start_time": "2025-03-17T03:52:19.253Z"
   },
   {
    "duration": 3,
    "start_time": "2025-03-17T03:52:19.274Z"
   },
   {
    "duration": 32,
    "start_time": "2025-03-17T03:52:19.280Z"
   },
   {
    "duration": 26,
    "start_time": "2025-03-17T03:52:19.313Z"
   },
   {
    "duration": 99,
    "start_time": "2025-03-17T03:52:19.413Z"
   },
   {
    "duration": 113,
    "start_time": "2025-03-17T03:52:19.514Z"
   },
   {
    "duration": 592,
    "start_time": "2025-03-17T03:52:19.632Z"
   },
   {
    "duration": 81963,
    "start_time": "2025-03-17T03:52:20.225Z"
   },
   {
    "duration": 40,
    "start_time": "2025-03-17T03:53:42.190Z"
   },
   {
    "duration": 33,
    "start_time": "2025-03-17T03:53:42.231Z"
   },
   {
    "duration": 147,
    "start_time": "2025-03-17T03:53:42.266Z"
   }
  ],
  "kernelspec": {
   "display_name": "base",
   "language": "python",
   "name": "python3"
  },
  "language_info": {
   "codemirror_mode": {
    "name": "ipython",
    "version": 3
   },
   "file_extension": ".py",
   "mimetype": "text/x-python",
   "name": "python",
   "nbconvert_exporter": "python",
   "pygments_lexer": "ipython3",
   "version": "3.12.7"
  },
  "toc": {
   "base_numbering": 1,
   "nav_menu": {},
   "number_sections": true,
   "sideBar": true,
   "skip_h1_title": true,
   "title_cell": "Table of Contents",
   "title_sidebar": "Contents",
   "toc_cell": false,
   "toc_position": {
    "height": "calc(100% - 180px)",
    "left": "10px",
    "top": "150px",
    "width": "190.4px"
   },
   "toc_section_display": true,
   "toc_window_display": true
  }
 },
 "nbformat": 4,
 "nbformat_minor": 2
}
